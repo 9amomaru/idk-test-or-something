{
 "cells": [
  {
   "cell_type": "markdown",
   "metadata": {},
   "source": [
    "import pandas and numby and matplotlib"
   ]
  },
  {
   "cell_type": "code",
   "execution_count": 1,
   "metadata": {},
   "outputs": [],
   "source": [
    "import pandas as pd\n",
    "import numpy as np\n",
    "import matplotlib.pyplot as plt"
   ]
  },
  {
   "cell_type": "markdown",
   "metadata": {},
   "source": [
    "read the data set"
   ]
  },
  {
   "cell_type": "code",
   "execution_count": 3,
   "metadata": {},
   "outputs": [],
   "source": [
    "df = pd.read_csv('e-Commerce sheet.csv')\n",
    "\n"
   ]
  },
  {
   "cell_type": "markdown",
   "metadata": {},
   "source": [
    "removing missing values and duplicate rows and print info"
   ]
  },
  {
   "cell_type": "code",
   "execution_count": 4,
   "metadata": {},
   "outputs": [
    {
     "name": "stdout",
     "output_type": "stream",
     "text": [
      "<class 'pandas.core.frame.DataFrame'>\n",
      "RangeIndex: 2240 entries, 0 to 2239\n",
      "Data columns (total 20 columns):\n",
      " #   Column                    Non-Null Count  Dtype \n",
      "---  ------                    --------------  ----- \n",
      " 0   Customer ID               2240 non-null   int64 \n",
      " 1   Income                    2240 non-null   object\n",
      " 2   Recency - Days            2240 non-null   int64 \n",
      " 3   Fruits                    2240 non-null   int64 \n",
      " 4   Meat                      2240 non-null   object\n",
      " 5   Fish                      2240 non-null   int64 \n",
      " 6   Sweets                    2240 non-null   int64 \n",
      " 7   Gold Products             2240 non-null   int64 \n",
      " 8   Deal Purchases            2240 non-null   int64 \n",
      " 9   Web Purchases             2240 non-null   int64 \n",
      " 10  Catalog Purchases         2240 non-null   int64 \n",
      " 11  Store Purchases           2240 non-null   int64 \n",
      " 12  Total Website Visits      2240 non-null   int64 \n",
      " 13  Accepted Campaign1        2240 non-null   int64 \n",
      " 14  Accepted Campaign2        2240 non-null   int64 \n",
      " 15  Accepted Campaign3        2240 non-null   int64 \n",
      " 16  Accepted Campaign4        2240 non-null   int64 \n",
      " 17  Accepted Campaign5        2240 non-null   int64 \n",
      " 18  Response - Last Campaign  2240 non-null   int64 \n",
      " 19  Complains                 2240 non-null   int64 \n",
      "dtypes: int64(18), object(2)\n",
      "memory usage: 350.1+ KB\n",
      "None\n"
     ]
    }
   ],
   "source": [
    "df.dropna(inplace=True)\n",
    "df.drop_duplicates(inplace=True)\n",
    "print(df.info())\n"
   ]
  },
  {
   "cell_type": "markdown",
   "metadata": {},
   "source": [
    "describe the data set"
   ]
  },
  {
   "cell_type": "code",
   "execution_count": 31,
   "metadata": {},
   "outputs": [
    {
     "name": "stdout",
     "output_type": "stream",
     "text": [
      "        Customer ID  Recency - Days       Fruits         Fish       Sweets  \\\n",
      "count   2240.000000     2240.000000  2240.000000  2240.000000  2240.000000   \n",
      "mean    5592.159821       49.109375    26.302232    37.525446    27.062946   \n",
      "std     3246.662198       28.962453    39.773434    54.628979    41.280498   \n",
      "min        0.000000        0.000000     0.000000     0.000000     0.000000   \n",
      "25%     2828.250000       24.000000     1.000000     3.000000     1.000000   \n",
      "50%     5458.500000       49.000000     8.000000    12.000000     8.000000   \n",
      "75%     8427.750000       74.000000    33.000000    50.000000    33.000000   \n",
      "max    11191.000000       99.000000   199.000000   259.000000   263.000000   \n",
      "\n",
      "       Gold Products  Deal Purchases  Web Purchases  Catalog Purchases  \\\n",
      "count    2240.000000     2240.000000    2240.000000        2240.000000   \n",
      "mean       44.021875        2.325000       4.084821           2.662054   \n",
      "std        52.167439        1.932238       2.778714           2.923101   \n",
      "min         0.000000        0.000000       0.000000           0.000000   \n",
      "25%         9.000000        1.000000       2.000000           0.000000   \n",
      "50%        24.000000        2.000000       4.000000           2.000000   \n",
      "75%        56.000000        3.000000       6.000000           4.000000   \n",
      "max       362.000000       15.000000      27.000000          28.000000   \n",
      "\n",
      "       Store Purchases  Total Website Visits  Accepted Campaign1  \\\n",
      "count      2240.000000           2240.000000         2240.000000   \n",
      "mean          5.790179              5.316518            0.064286   \n",
      "std           3.250958              2.426645            0.245316   \n",
      "min           0.000000              0.000000            0.000000   \n",
      "25%           3.000000              3.000000            0.000000   \n",
      "50%           5.000000              6.000000            0.000000   \n",
      "75%           8.000000              7.000000            0.000000   \n",
      "max          13.000000             20.000000            1.000000   \n",
      "\n",
      "       Accepted Campaign2  Accepted Campaign3  Accepted Campaign4  \\\n",
      "count         2240.000000         2240.000000         2240.000000   \n",
      "mean             0.013393            0.072768            0.074554   \n",
      "std              0.114976            0.259813            0.262728   \n",
      "min              0.000000            0.000000            0.000000   \n",
      "25%              0.000000            0.000000            0.000000   \n",
      "50%              0.000000            0.000000            0.000000   \n",
      "75%              0.000000            0.000000            0.000000   \n",
      "max              1.000000            1.000000            1.000000   \n",
      "\n",
      "       Accepted Campaign5  Response - Last Campaign    Complains  \n",
      "count         2240.000000               2240.000000  2240.000000  \n",
      "mean             0.072768                  0.149107     0.009375  \n",
      "std              0.259813                  0.356274     0.096391  \n",
      "min              0.000000                  0.000000     0.000000  \n",
      "25%              0.000000                  0.000000     0.000000  \n",
      "50%              0.000000                  0.000000     0.000000  \n",
      "75%              0.000000                  0.000000     0.000000  \n",
      "max              1.000000                  1.000000     1.000000  \n"
     ]
    }
   ],
   "source": [
    "print(df.describe())\n"
   ]
  },
  {
   "cell_type": "markdown",
   "metadata": {},
   "source": [
    "print the Number of acceptances for each campaign"
   ]
  },
  {
   "cell_type": "code",
   "execution_count": 8,
   "metadata": {},
   "outputs": [
    {
     "name": "stdout",
     "output_type": "stream",
     "text": [
      "Number of acceptances for each campaign:\n",
      "Accepted Campaign1    144\n",
      "Accepted Campaign2     30\n",
      "Accepted Campaign3    163\n",
      "Accepted Campaign4    167\n",
      "Accepted Campaign5    163\n",
      "dtype: int64\n"
     ]
    }
   ],
   "source": [
    "campaign_columns = ['Accepted Campaign1', 'Accepted Campaign2', 'Accepted Campaign3', 'Accepted Campaign4', 'Accepted Campaign5']\n",
    "campaign_acceptances = df[campaign_columns].sum()\n",
    "print(\"Number of acceptances for each campaign:\")\n",
    "print(campaign_acceptances)"
   ]
  },
  {
   "cell_type": "markdown",
   "metadata": {},
   "source": [
    "print the Number of total purchases for each product"
   ]
  },
  {
   "cell_type": "code",
   "execution_count": 10,
   "metadata": {},
   "outputs": [
    {
     "name": "stdout",
     "output_type": "stream",
     "text": [
      "Number of total purchases for each product:\n",
      "Fruits            58917.0\n",
      "Meat             365707.0\n",
      "Fish              84057.0\n",
      "Sweets            60621.0\n",
      "Gold Products     98609.0\n",
      "dtype: float64\n"
     ]
    }
   ],
   "source": [
    "\n",
    "purchase_columns = ['Fruits', 'Meat', 'Fish', 'Sweets', 'Gold Products']\n",
    "df[purchase_columns] = df[purchase_columns].apply(pd.to_numeric, errors='coerce')\n",
    "total_purchases = df[purchase_columns].sum()\n",
    "print(\"Number of total purchases for each product:\")\n",
    "print(total_purchases)"
   ]
  },
  {
   "cell_type": "markdown",
   "metadata": {},
   "source": [
    "print the Number of total purchases by each method"
   ]
  },
  {
   "cell_type": "code",
   "execution_count": 11,
   "metadata": {},
   "outputs": [
    {
     "name": "stdout",
     "output_type": "stream",
     "text": [
      "Number of total purchases by each method:\n",
      "Web Purchases         9150\n",
      "Catalog Purchases     5963\n",
      "Store Purchases      12970\n",
      "dtype: int64\n"
     ]
    }
   ],
   "source": [
    "purchase_method_columns = ['Web Purchases', 'Catalog Purchases', 'Store Purchases']\n",
    "df[purchase_method_columns] = df[purchase_method_columns].apply(pd.to_numeric, errors='coerce')\n",
    "total_purchases_by_method = df[purchase_method_columns].sum()\n",
    "print(\"Number of total purchases by each method:\")\n",
    "print(total_purchases_by_method)"
   ]
  },
  {
   "cell_type": "markdown",
   "metadata": {},
   "source": [
    "print total customers who have made a purchase"
   ]
  },
  {
   "cell_type": "code",
   "execution_count": 12,
   "metadata": {},
   "outputs": [
    {
     "name": "stdout",
     "output_type": "stream",
     "text": [
      "2240\n"
     ]
    }
   ],
   "source": [
    "total_customers = len(df['Customer ID'])\n",
    "print(total_customers)"
   ]
  },
  {
   "cell_type": "markdown",
   "metadata": {},
   "source": [
    " Convert acceptance rates and sales to DataFrames\n"
   ]
  },
  {
   "cell_type": "code",
   "execution_count": 16,
   "metadata": {},
   "outputs": [],
   "source": [
    "acceptance_rates = df[campaign_columns].sum() / total_customers * 100\n",
    "total_sales = df[purchase_columns].sum()\n",
    "acceptance_rates_df = acceptance_rates.reset_index()\n",
    "acceptance_rates_df.columns = ['Campaign', 'Acceptance Rate']\n",
    "total_sales_df = total_sales.reset_index()\n",
    "total_sales_df.columns = ['Category', 'Total Sales']\n"
   ]
  },
  {
   "cell_type": "markdown",
   "metadata": {},
   "source": [
    "Visualize Acceptance Rates vs. Total Sales\n"
   ]
  },
  {
   "cell_type": "code",
   "execution_count": 17,
   "metadata": {},
   "outputs": [
    {
     "data": {
      "image/png": "[encoded data removed]",
      "text/plain": [
       "<Figure size 1000x600 with 1 Axes>"
      ]
     },
     "metadata": {},
     "output_type": "display_data"
    }
   ],
   "source": [
    "plt.figure(figsize=(10, 6))\n",
    "\n",
    "for category in purchase_columns:\n",
    "    plt.scatter(acceptance_rates_df['Acceptance Rate'], total_sales_df['Total Sales'], label=category)\n",
    "\n",
    "plt.xlabel('Acceptance Rate (%)')\n",
    "plt.ylabel('Total Sales')\n",
    "plt.title('Acceptance Rate vs. Total Sales for Each Category')\n",
    "plt.legend()\n",
    "plt.grid(True)\n",
    "plt.show()"
   ]
  },
  {
   "cell_type": "markdown",
   "metadata": {},
   "source": [
    " Create a DataFrame to combine the acceptance rates and total sales and Calculate the correlation\n"
   ]
  },
  {
   "cell_type": "code",
   "execution_count": 19,
   "metadata": {},
   "outputs": [
    {
     "name": "stdout",
     "output_type": "stream",
     "text": [
      "Correlation between Acceptance Rate and Total Sales: nan\n"
     ]
    }
   ],
   "source": [
    "combined_df = pd.DataFrame({\n",
    "    'Acceptance Rate': acceptance_rates,\n",
    "    'Total Sales': total_sales\n",
    "})\n",
    "correlation = combined_df.corr().iloc[0, 1]\n",
    "print(f\"Correlation between Acceptance Rate and Total Sales: {correlation:.2f}\")\n",
    "\n"
   ]
  },
  {
   "cell_type": "markdown",
   "metadata": {},
   "source": [
    "Calculate the average number of days since the last purchase for customers who accepted each campaign."
   ]
  },
  {
   "cell_type": "code",
   "execution_count": 21,
   "metadata": {},
   "outputs": [
    {
     "name": "stdout",
     "output_type": "stream",
     "text": [
      "             Campaign  Average Recency\n",
      "0  Accepted Campaign1        46.979167\n",
      "1  Accepted Campaign2        48.666667\n",
      "2  Accepted Campaign3        45.699387\n",
      "3  Accepted Campaign4        51.029940\n",
      "4  Accepted Campaign5        49.122699\n"
     ]
    }
   ],
   "source": [
    "# Initialize a dictionary to store average recency for each campaign\n",
    "average_recency = {}\n",
    "for campaign in campaign_columns:\n",
    "    # Filter data to include only customers who accepted the campaign\n",
    "    accepted_customers = df[df[campaign] == 1]\n",
    "    \n",
    "    # Calculate the average number of days since the last purchase for these customers\n",
    "    avg_recency = accepted_customers['Recency - Days'].mean()\n",
    "    \n",
    "    # Store the result in the dictionary\n",
    "    average_recency[campaign] = avg_recency\n",
    "\n",
    "# Convert the dictionary to a DataFrame for better readability\n",
    "average_recency_df = pd.DataFrame(list(average_recency.items()), columns=['Campaign', 'Average Recency'])\n",
    "print(average_recency_df)\n",
    "\n"
   ]
  },
  {
   "cell_type": "markdown",
   "metadata": {},
   "source": [
    "calculate total number of complaints"
   ]
  },
  {
   "cell_type": "code",
   "execution_count": 27,
   "metadata": {},
   "outputs": [
    {
     "name": "stdout",
     "output_type": "stream",
     "text": [
      "Total Complaints: 21\n",
      "Complaints by Campaign Acceptance:\n",
      "             Campaign  Total Complaints\n",
      "0  Accepted Campaign1                 0\n",
      "1  Accepted Campaign2                 0\n",
      "2  Accepted Campaign3                 2\n",
      "3  Accepted Campaign4                 0\n",
      "4  Accepted Campaign5                 1\n"
     ]
    }
   ],
   "source": [
    "total_complaints = df['Complains'].sum()\n",
    "complaints_statistics = df['Complains'].describe()\n",
    "\n",
    "print(f\"Total Complaints: {total_complaints}\")\n",
    "complaints_by_campaign = {}\n",
    "\n",
    "# List of campaign columns\n",
    "campaign_columns = ['Accepted Campaign1', 'Accepted Campaign2', 'Accepted Campaign3', 'Accepted Campaign4', 'Accepted Campaign5']\n",
    "\n",
    "# Calculate total complaints for customers who accepted each campaign\n",
    "for campaign in campaign_columns:\n",
    "    # Filter data to include only customers who accepted the campaign\n",
    "    accepted_customers = df[df[campaign] == 1]\n",
    "    \n",
    "    # Calculate the total number of complaints for these customers\n",
    "    total_complaints_for_campaign = accepted_customers['Complains'].sum()\n",
    "    \n",
    "    # Store the result in the dictionary\n",
    "    complaints_by_campaign[campaign] = total_complaints_for_campaign\n",
    "\n",
    "# Convert the dictionary to a DataFrame for better readability\n",
    "complaints_by_campaign_df = pd.DataFrame(list(complaints_by_campaign.items()), columns=['Campaign', 'Total Complaints'])\n",
    "\n",
    "print(\"Complaints by Campaign Acceptance:\")\n",
    "print(complaints_by_campaign_df)\n",
    "\n",
    "\n",
    "\n",
    "\n"
   ]
  }
 ],
 "metadata": {
  "kernelspec": {
   "display_name": "Python 3",
   "language": "python",
   "name": "python3"
  },
  "language_info": {
   "codemirror_mode": {
    "name": "ipython",
    "version": 3
   },
   "file_extension": ".py",
   "mimetype": "text/x-python",
   "name": "python",
   "nbconvert_exporter": "python",
   "pygments_lexer": "ipython3",
   "version": "3.12.5"
  }
 },
 "nbformat": 4,
 "nbformat_minor": 2
}
